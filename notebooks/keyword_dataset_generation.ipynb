{
 "cells": [
  {
   "cell_type": "code",
   "execution_count": 2,
   "metadata": {},
   "outputs": [],
   "source": [
    "import csv\n",
    "import random"
   ]
  },
  {
   "cell_type": "code",
   "execution_count": null,
   "metadata": {},
   "outputs": [],
   "source": [
    "templates = [\n",
    "    (\"請從{topic}的角度，分析其對{effect}的深遠影響。\", [\"topic\", \"effect\"]),\n",
    "    (\"從歷史與當前數據的角度，分析{phenomenon}對{group}的影響。\", [\"phenomenon\", \"group\"]),\n",
    "    (\"請根據{topic}的最新研究，探討其對{entity}的多層次影響。\", [\"topic\", \"entity\"]),\n",
    "    (\"請描述{policy}在不同經濟體中的應用案例。\", [\"policy\"]),\n",
    "    (\"請分析{topic}如何影響{group}，並總結政策建議。\", [\"topic\", \"group\"]),\n",
    "    (\"探討{policy}對於{group}與{result}的長期影響。\", [\"policy\", \"group\", \"result\"]),\n",
    "    (\"分析{phenomenon}對{entity}和{aspect}的影響，並提出未來研究方向。\", [\"phenomenon\", \"entity\", \"aspect\"]),\n",
    "    (\"從{policy}的角度，分析其對{effect}的潛在影響。\", [\"policy\", \"effect\"]),\n",
    "    (\"請探討{topic}與{aspect}的關聯，並分析文獻中的爭議點。\", [\"topic\", \"aspect\"]),\n",
    "    (\"描述{phenomenon}在不同地區的應用，並分析其對{result}的影響。\", [\"phenomenon\", \"result\"])\n",
    "]\n",
    "\n",
    "words = {\n",
    "    \"topic\": [\n",
    "        \"貨幣政策\", \"全球化\", \"最低工資政策\", \"科技創新\", \"金融市場波動性\", \"環境政策\", \n",
    "        \"國際貿易\", \"企業社會責任\", \"人口老齡化\", \"金融科技\", \"數位貨幣\", \"人工智慧\", \n",
    "        \"可持續發展\", \"教育改革\", \"醫療保健體系\", \"網絡安全\", \"數據隱私\", \"全球化影響\"\n",
    "    ],\n",
    "    \"effect\": [\n",
    "        \"經濟增長\", \"中小型企業競爭力\", \"失業率\", \"產業升級\", \"投資者行為\", \"企業成本結構\", \n",
    "        \"發展中國家經濟\", \"公司股價\", \"社會保障體系\", \"傳統銀行業務\", \"就業機會\", \n",
    "        \"資本市場發展\", \"貧富差距\", \"勞動市場需求\", \"公共服務可及性\", \"國際合作\"\n",
    "    ],\n",
    "    \"entity\": [\n",
    "        \"企業\", \"國家\", \"家庭\", \"工人\", \"學生\", \"政府\", \"非營利組織\", \"跨國公司\", \n",
    "        \"社會大眾\", \"地方社區\", \"投資者\", \"消費者\", \"學術機構\", \"社會企業\"\n",
    "    ],\n",
    "    \"aspect\": [\n",
    "        \"創新能力\", \"市場規模\", \"資源配置\", \"收入分配\", \"就業率\", \"政府效率\", \n",
    "        \"環境影響\", \"企業治理\", \"社會福祉\", \"國際競爭力\", \"企業績效\", \"金融穩定性\", \n",
    "        \"教育機會\", \"公共健康\"\n",
    "    ],\n",
    "    \"policy\": [\n",
    "        \"財政政策\", \"貿易協定\", \"稅收政策\", \"補貼計劃\", \"監管框架\", \"教育政策\", \n",
    "        \"環境政策\", \"移民政策\", \"勞動法\", \"醫療政策\", \"企業社會責任政策\", \"社會保障政策\", \n",
    "        \"數位轉型政策\", \"財富分配政策\"\n",
    "    ],\n",
    "    \"result\": [\n",
    "        \"經濟穩定\", \"環境可持續性\", \"收入差距縮小\", \"產業發展\", \"勞動力市場改善\", \n",
    "        \"國際貿易增長\", \"公共衛生改善\", \"社會福利提高\", \"企業創新\", \"市場競爭力增強\", \n",
    "        \"減少貧困\", \"財政平衡\", \"社會安全\"\n",
    "    ],\n",
    "    \"phenomenon\": [\n",
    "        \"人口增長\", \"技術進步\", \"氣候變化\", \"全球疫情\", \"網絡經濟\", \"數位化\", \n",
    "        \"全球暖化\", \"自動化\", \"人口老化\", \"全球能源需求\", \"社會移動\", \"人類遷徙\", \n",
    "        \"資本流動\", \"全球失業率上升\"\n",
    "    ],\n",
    "    \"group\": [\n",
    "        \"低收入群體\", \"女性工作者\", \"中小企業\", \"年輕一代\", \"老年人口\", \"學生族群\", \n",
    "        \"小農戶\", \"高技能勞動者\", \"非營利組織\", \"城市居民\", \"農村人口\", \n",
    "        \"弱勢群體\", \"多國籍勞工\", \"移民工人\", \"企業高層\"\n",
    "    ]\n",
    "}"
   ]
  },
  {
   "cell_type": "code",
   "execution_count": null,
   "metadata": {},
   "outputs": [],
   "source": [
    "data = set()\n",
    "while len(data) < 100:\n",
    "    template, keys = random.choice(templates)\n",
    "    replacements = {key: random.choice(words[key]) for key in keys}\n",
    "    question = template.format(**replacements)\n",
    "    keywords = \" \".join([replacements[key] for key in keys])\n",
    "    data.add((question, keywords))\n",
    "\n",
    "filename = \"econ_questions_keywords.csv\"\n",
    "with open(filename, mode=\"w\", encoding=\"utf-8\", newline=\"\") as file:\n",
    "    writer = csv.writer(file)\n",
    "    writer.writerow([\"questions\", \"keywords\"])\n",
    "    writer.writerows(data)"
   ]
  }
 ],
 "metadata": {
  "kernelspec": {
   "display_name": "Python 3",
   "language": "python",
   "name": "python3"
  },
  "language_info": {
   "codemirror_mode": {
    "name": "ipython",
    "version": 3
   },
   "file_extension": ".py",
   "mimetype": "text/x-python",
   "name": "python",
   "nbconvert_exporter": "python",
   "pygments_lexer": "ipython3",
   "version": "3.10.12"
  }
 },
 "nbformat": 4,
 "nbformat_minor": 2
}
