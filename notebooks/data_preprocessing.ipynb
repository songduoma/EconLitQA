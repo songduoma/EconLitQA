{
 "cells": [
  {
   "cell_type": "code",
   "execution_count": 1,
   "metadata": {},
   "outputs": [],
   "source": [
    "import pandas as pd"
   ]
  },
  {
   "cell_type": "code",
   "execution_count": 2,
   "metadata": {},
   "outputs": [],
   "source": [
    "file_path = \"thesis_articles.xlsx\"  \n",
    "thesis = pd.read_excel(file_path, sheet_name=None)"
   ]
  },
  {
   "cell_type": "code",
   "execution_count": 34,
   "metadata": {},
   "outputs": [],
   "source": [
    "txt = \"\"\n",
    "for thesis_name in thesis.keys():\n",
    "    thesis[thesis_name] = thesis[thesis_name].drop(columns=[\"翻譯題目\"], errors=\"ignore\")\n",
    "    thesis[thesis_name] = thesis[thesis_name][thesis[thesis_name][\"摘要\"] != 'Abstract not found']\n",
    "\n",
    "    for index, row in thesis[thesis_name].iterrows():\n",
    "        if not row[\"原文題目\"].isascii():\n",
    "            txt += f\"{thesis_name[:-6]}的文章：\\n\"\n",
    "            for column_name in thesis[thesis_name].columns:\n",
    "                txt += column_name + \"：\" + str(row[column_name]) + \" \"\n",
    "            txt += \"###\\n\""
   ]
  },
  {
   "cell_type": "code",
   "execution_count": 36,
   "metadata": {},
   "outputs": [],
   "source": [
    "output_txt_path = \"thesis_output.txt\" \n",
    "with open(output_txt_path, \"w\", encoding=\"utf-8\") as text_file:\n",
    "    text_file.write(txt)"
   ]
  }
 ],
 "metadata": {
  "kernelspec": {
   "display_name": "Python 3",
   "language": "python",
   "name": "python3"
  },
  "language_info": {
   "codemirror_mode": {
    "name": "ipython",
    "version": 3
   },
   "file_extension": ".py",
   "mimetype": "text/x-python",
   "name": "python",
   "nbconvert_exporter": "python",
   "pygments_lexer": "ipython3",
   "version": "3.12.3"
  }
 },
 "nbformat": 4,
 "nbformat_minor": 2
}
